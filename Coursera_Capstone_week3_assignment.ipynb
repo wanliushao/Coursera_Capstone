{
 "nbformat": 4,
 "nbformat_minor": 2,
 "metadata": {
  "language_info": {
   "name": "python",
   "codemirror_mode": {
    "name": "ipython",
    "version": 3
   },
   "version": "3.6.9"
  },
  "orig_nbformat": 2,
  "file_extension": ".py",
  "mimetype": "text/x-python",
  "name": "python",
  "npconvert_exporter": "python",
  "pygments_lexer": "ipython3",
  "version": 3
 },
 "cells": [
  {
   "cell_type": "markdown",
   "execution_count": null,
   "metadata": {},
   "outputs": [],
   "source": [
    "Note: this notebook will be mainly used for the capstone project"
   ]
  },
  {
   "cell_type": "code",
   "execution_count": 83,
   "metadata": {},
   "outputs": [],
   "source": [
    "import pandas as pd\n",
    "import numpy as np\n",
    "from urllib.request import urlopen\n",
    "from bs4 import BeautifulSoup\n",
    "\n",
    "html = urlopen('https://en.wikipedia.org/wiki/List_of_postal_codes_of_Canada:_M')\n",
    "bs = BeautifulSoup(html, 'html.parser')\n",
    "\n",
    "tabs = []\n",
    "# find the td label\n",
    "for tr in bs.table.find_all('tr')[1:]:\n",
    "    td = tr.find_all('td')\n",
    "    row = [tr.text.strip() for tr in td if tr.text.strip()]\n",
    "    if row:\n",
    "        tabs.append(row)\n",
    "# convert to data_frame\n",
    "df = pd.DataFrame(tabs, columns=[\"PostalCode\", \"Borough\", \"Neighborhood\"])"
   ]
  },
  {
   "cell_type": "code",
   "execution_count": 88,
   "metadata": {},
   "outputs": [
    {
     "data": {
      "text/plain": "(103, 3)"
     },
     "execution_count": 88,
     "metadata": {},
     "output_type": "execute_result"
    }
   ],
   "source": [
    "df = df[df.Borough !='Not assigned']  # drop the nan rows in Borough column\n",
    "df_combine = df.groupby('PostalCode').agg({'Borough': lambda x: x.unique(), 'Neighborhood':lambda x: ','.join(x)}).reset_index() # combine rows which have the same PostalCode\n",
    "df_combine.loc[df_combine.Neighborhood == 'Not assigned', 'Neighborhood'] = df_combine.loc[df_combine.Neighborhood == 'Not assigned', 'Borough'] # assign missing values for Neighborhood\n",
    "df_combine.shape"
   ]
  },
  {
   "cell_type": "code",
   "execution_count": null,
   "metadata": {},
   "outputs": [],
   "source": []
  }
 ]
}